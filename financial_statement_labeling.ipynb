import pandas as pd
import numpy as np
from pykrx import stock
import time
target = input('Insert the company name: ')
data=pd.read_csv(target+'.csv',dtype=str)

list=[]
list1=[]
data['날짜']=data['접수번호'].astype(str).str[:8]
cord_code=data.loc[0,'종목코드']
data=data[['날짜','종목코드','접수번호','계정명','당기금액','전기금액']]
#data=data.loc[data['계정명'].str.contains('영업이익',na=False)]
data=data.loc[data['계정명'].str.contains('당기순이익',na=False)]
data=data.groupby('접수번호').agg({'날짜':'first','당기금액':sum,'전기금액':sum})
#label 당기순이익만 비교 1인 경우 당기금액>전기금액
data['label']=data['당기금액']>data['전기금액']
data['label']=data['label'].map(lambda x:1 if x else 0)
for v in data['날짜']:
    df=stock.get_market_ohlcv_by_date(fromdate=v,todate=v,ticker=cord_code)
    list.append(df['종가']-df['시가'])
    #time.sleep(1)
#변동량 종가-시가로 계산
data['변동량']=list
data['변동량']=data['변동량'].astype(str).str[13:18]
data['변동량']=data['변동량'].map(lambda x:1 if int(x)>=0 else 0) 
#최종은 label과 변동량이 같은 경우 1
data['최종']=data['label']==data['변동량']
data['최종']=data['최종'].map(lambda x:1 if x else 0)
data.to_csv(target+' labeling.csv', encoding='utf-8-sig', index=False)
