import requests
import json
import pandas as pd


api_key = '6ce8b578ba21546299433725352745d3b3923291'
dart_code_df = pd.read_csv('corpCode.csv', dtype=str)

def get_dart_code(item_name, dart_df):
    code = dart_df.query("corp_name=='{}'".format(item_name))['corp_code'].to_string().strip(' ')[-8:]
    return code

def convertFnltt(url, items, item_names, params):
    res = requests.get(url, params)
    json_dict = json.loads(res.text)
    data = []
    if json_dict['status'] == "000":
        for line in json_dict['list']:
            data.append([])
            for itm in items:
                if itm in line.keys(): data[-1].append(line[itm])
                else: data[-1].append('')
    df = pd.DataFrame(data, columns=item_names)
    return df


def get_fnlttSinglAcnt(crtfc_key, corp_code, bsns_year, reprt_code):
    items = ["rcept_no", "bsns_year", "stock_code", "reprt_code", "account_nm", "fs_div", "fs_nm","sj_div",
             "sj_nm", "thstrm_nm", "thstrm_dt", "thstrm_amount","thstrm_add_amount", "frmtrm_nm",
             "frmtrm_dt", "frmtrm_amount","frmtrm_add_amount", "bfefrmtrm_nm", "bfefrmtrm_dt", "bfefrmtrm_amount","ord"]
    item_names = ["접수번호", "사업연도", "종목코드", "보고서코드", "계정명", "개별연결구분","개별연결명", "재무제표구분",
                 "재무제표명", "당기명", "당기일자","당기금액", "당기누적금액", "전기명", "전기일자", "전기금액",
                 "전기누적금액", "전전기명", "전전기일자", "전전기금액", "계정과목정렬순서"]
    params = {'crtfc_key': crtfc_key, 'corp_code': corp_code, 'bsns_year': bsns_year, 'reprt_code': reprt_code}
    url = "https://opendart.fss.or.kr/api/fnlttSinglAcnt.json"
    return convertFnltt(url, items, item_names, params)


target = input('Insert the company name: ')

df_orgn = pd.DataFrame()
codeList = [11013, 11012, 11014, 11011]#[1분기,2분기,3분기,4분기]

for year in range(2016, 2021):#연도 지정
    for code in codeList:
        df_temp = get_fnlttSinglAcnt(crtfc_key=api_key,
                                     corp_code=get_dart_code(target, dart_code_df),
                                     bsns_year=year,
                                     reprt_code=code)
        df_orgn = pd.concat([df_orgn, df_temp])
    df_orgn.to_csv(target+'.csv', encoding='utf-8-sig', index=False)
