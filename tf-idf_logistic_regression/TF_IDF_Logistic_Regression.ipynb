{
  "nbformat": 4,
  "nbformat_minor": 0,
  "metadata": {
    "colab": {
      "name": "TF-IDF Logistic Regression.ipynb",
      "provenance": []
    },
    "kernelspec": {
      "name": "python3",
      "display_name": "Python 3"
    },
    "language_info": {
      "name": "python"
    }
  },
  "cells": [
    {
      "cell_type": "code",
      "metadata": {
        "colab": {
          "base_uri": "https://localhost:8080/"
        },
        "id": "Or0Q5Xgr9XA1",
        "outputId": "abd5b213-32bc-43cb-8f0e-227aadf020d4"
      },
      "source": [
        "import numpy as np\n",
        "import pandas as pd\n",
        "!wget https://raw.githubusercontent.com/yunakim2/OpenSourceProject/stock_report/data/labeled/all1.csv\n",
        "!wget https://raw.githubusercontent.com/yunakim2/OpenSourceProject/stock_report/data/labeled/all.csv"
      ],
      "execution_count": 3,
      "outputs": [
        {
          "output_type": "stream",
          "text": [
            "--2021-06-25 07:14:33--  https://raw.githubusercontent.com/yunakim2/OpenSourceProject/stock_report/data/labeled/all1.csv\n",
            "Resolving raw.githubusercontent.com (raw.githubusercontent.com)... 185.199.110.133, 185.199.108.133, 185.199.109.133, ...\n",
            "Connecting to raw.githubusercontent.com (raw.githubusercontent.com)|185.199.110.133|:443... connected.\n",
            "HTTP request sent, awaiting response... 200 OK\n",
            "Length: 299412 (292K) [text/plain]\n",
            "Saving to: ‘all1.csv.1’\n",
            "\n",
            "all1.csv.1          100%[===================>] 292.39K  --.-KB/s    in 0.07s   \n",
            "\n",
            "2021-06-25 07:14:33 (4.00 MB/s) - ‘all1.csv.1’ saved [299412/299412]\n",
            "\n",
            "--2021-06-25 07:14:33--  https://raw.githubusercontent.com/yunakim2/OpenSourceProject/stock_report/data/labeled/all.csv\n",
            "Resolving raw.githubusercontent.com (raw.githubusercontent.com)... 185.199.108.133, 185.199.109.133, 185.199.110.133, ...\n",
            "Connecting to raw.githubusercontent.com (raw.githubusercontent.com)|185.199.108.133|:443... connected.\n",
            "HTTP request sent, awaiting response... 200 OK\n",
            "Length: 91761 (90K) [text/plain]\n",
            "Saving to: ‘all.csv.1’\n",
            "\n",
            "all.csv.1           100%[===================>]  89.61K  --.-KB/s    in 0.02s   \n",
            "\n",
            "2021-06-25 07:14:33 (3.52 MB/s) - ‘all.csv.1’ saved [91761/91761]\n",
            "\n"
          ],
          "name": "stdout"
        }
      ]
    },
    {
      "cell_type": "markdown",
      "metadata": {
        "id": "-psDDKiXCDM3"
      },
      "source": [
        "## 데이터 수집"
      ]
    },
    {
      "cell_type": "code",
      "metadata": {
        "colab": {
          "base_uri": "https://localhost:8080/"
        },
        "id": "pSoAcgjmBKgv",
        "outputId": "bd224138-03e6-4f7d-990c-18523ce8ac32"
      },
      "source": [
        "train = pd.read_csv('all1.csv', encoding=  'utf8', sep=',')\n",
        "train['label']=(train['label']>=0).astype(int)\n",
        "\n",
        "test = pd.read_csv('all.csv', encoding= 'utf8', sep=',', error_bad_lines=False)\n",
        "test['label']=(test['label']>=0).astype(int)\n",
        "\n",
        "data = pd.concat([test,train])\n",
        "print('전체 데이터 개수 : ', (len(train) + len(test)))\n",
        "\n",
        "print('train 데이터 개수 : ', len(train))\n",
        "print('test 데이터 개수 : ', len(test))\n",
        "\n",
        "print(len(data))"
      ],
      "execution_count": 38,
      "outputs": [
        {
          "output_type": "stream",
          "text": [
            "전체 데이터 개수 :  2763\n",
            "train 데이터 개수 :  2086\n",
            "test 데이터 개수 :  677\n",
            "2763\n"
          ],
          "name": "stdout"
        }
      ]
    },
    {
      "cell_type": "markdown",
      "metadata": {
        "id": "wYrRnu6rCFeP"
      },
      "source": [
        "## 데이터 전처리 "
      ]
    },
    {
      "cell_type": "code",
      "metadata": {
        "colab": {
          "base_uri": "https://localhost:8080/"
        },
        "id": "avJbuVj2FT_l",
        "outputId": "eb0aeef0-f534-470b-aa21-71578b755933"
      },
      "source": [
        "!pip install konlpy"
      ],
      "execution_count": 19,
      "outputs": [
        {
          "output_type": "stream",
          "text": [
            "Collecting konlpy\n",
            "\u001b[?25l  Downloading https://files.pythonhosted.org/packages/85/0e/f385566fec837c0b83f216b2da65db9997b35dd675e107752005b7d392b1/konlpy-0.5.2-py2.py3-none-any.whl (19.4MB)\n",
            "\u001b[K     |████████████████████████████████| 19.4MB 1.3MB/s \n",
            "\u001b[?25hCollecting beautifulsoup4==4.6.0\n",
            "\u001b[?25l  Downloading https://files.pythonhosted.org/packages/9e/d4/10f46e5cfac773e22707237bfcd51bbffeaf0a576b0a847ec7ab15bd7ace/beautifulsoup4-4.6.0-py3-none-any.whl (86kB)\n",
            "\u001b[K     |████████████████████████████████| 92kB 9.0MB/s \n",
            "\u001b[?25hCollecting colorama\n",
            "  Downloading https://files.pythonhosted.org/packages/44/98/5b86278fbbf250d239ae0ecb724f8572af1c91f4a11edf4d36a206189440/colorama-0.4.4-py2.py3-none-any.whl\n",
            "Requirement already satisfied: lxml>=4.1.0 in /usr/local/lib/python3.7/dist-packages (from konlpy) (4.2.6)\n",
            "Requirement already satisfied: tweepy>=3.7.0 in /usr/local/lib/python3.7/dist-packages (from konlpy) (3.10.0)\n",
            "Requirement already satisfied: numpy>=1.6 in /usr/local/lib/python3.7/dist-packages (from konlpy) (1.19.5)\n",
            "Collecting JPype1>=0.7.0\n",
            "\u001b[?25l  Downloading https://files.pythonhosted.org/packages/98/88/f817ef1af6f794e8f11313dcd1549de833f4599abcec82746ab5ed086686/JPype1-1.3.0-cp37-cp37m-manylinux_2_5_x86_64.manylinux1_x86_64.whl (448kB)\n",
            "\u001b[K     |████████████████████████████████| 450kB 34.3MB/s \n",
            "\u001b[?25hRequirement already satisfied: six>=1.10.0 in /usr/local/lib/python3.7/dist-packages (from tweepy>=3.7.0->konlpy) (1.15.0)\n",
            "Requirement already satisfied: requests[socks]>=2.11.1 in /usr/local/lib/python3.7/dist-packages (from tweepy>=3.7.0->konlpy) (2.23.0)\n",
            "Requirement already satisfied: requests-oauthlib>=0.7.0 in /usr/local/lib/python3.7/dist-packages (from tweepy>=3.7.0->konlpy) (1.3.0)\n",
            "Requirement already satisfied: typing-extensions; python_version < \"3.8\" in /usr/local/lib/python3.7/dist-packages (from JPype1>=0.7.0->konlpy) (3.7.4.3)\n",
            "Requirement already satisfied: idna<3,>=2.5 in /usr/local/lib/python3.7/dist-packages (from requests[socks]>=2.11.1->tweepy>=3.7.0->konlpy) (2.10)\n",
            "Requirement already satisfied: urllib3!=1.25.0,!=1.25.1,<1.26,>=1.21.1 in /usr/local/lib/python3.7/dist-packages (from requests[socks]>=2.11.1->tweepy>=3.7.0->konlpy) (1.24.3)\n",
            "Requirement already satisfied: chardet<4,>=3.0.2 in /usr/local/lib/python3.7/dist-packages (from requests[socks]>=2.11.1->tweepy>=3.7.0->konlpy) (3.0.4)\n",
            "Requirement already satisfied: certifi>=2017.4.17 in /usr/local/lib/python3.7/dist-packages (from requests[socks]>=2.11.1->tweepy>=3.7.0->konlpy) (2021.5.30)\n",
            "Requirement already satisfied: PySocks!=1.5.7,>=1.5.6; extra == \"socks\" in /usr/local/lib/python3.7/dist-packages (from requests[socks]>=2.11.1->tweepy>=3.7.0->konlpy) (1.7.1)\n",
            "Requirement already satisfied: oauthlib>=3.0.0 in /usr/local/lib/python3.7/dist-packages (from requests-oauthlib>=0.7.0->tweepy>=3.7.0->konlpy) (3.1.1)\n",
            "Installing collected packages: beautifulsoup4, colorama, JPype1, konlpy\n",
            "  Found existing installation: beautifulsoup4 4.6.3\n",
            "    Uninstalling beautifulsoup4-4.6.3:\n",
            "      Successfully uninstalled beautifulsoup4-4.6.3\n",
            "Successfully installed JPype1-1.3.0 beautifulsoup4-4.6.0 colorama-0.4.4 konlpy-0.5.2\n"
          ],
          "name": "stdout"
        }
      ]
    },
    {
      "cell_type": "code",
      "metadata": {
        "id": "O0NNbsEZBUwR"
      },
      "source": [
        "from konlpy.tag import Okt\n",
        "okt = Okt()\n",
        "def tokenizer(raw_texts, pos=[\"Noun\",\"Alpha\",\"Verb\",\"Number\"], stopword=[]):\n",
        "    p = okt.pos(raw_texts, \n",
        "            norm=True,   # 정규화(normalization)\n",
        "            stem=True    # 어간추출(stemming)\n",
        "            )\n",
        "    o = [word for word, tag in p if len(word) > 1 and tag in pos and word not in stopword]\n",
        "    return o\n",
        "\n",
        "def processing(data):\n",
        "  data['title'] = data['title'].str.replace('Hot-Line','')\n",
        "  data['title'] = data['title'].str.replace('↑',' 상승 ')\n",
        "  data['title'] = data['title'].str.replace('↓', ' 하락 ')\n",
        "\n",
        "  data['title'] = data['title'].str.replace('[^a-zA-Z0-9ㄱ-힗 ]', '')\n",
        "  \n",
        "  tmp_o = []\n",
        "  for sentence in data['title']:\n",
        "    tmp_o.append(tokenizer(sentence))\n",
        "\n",
        "  data['pos'] = tmp_o\n",
        "  \n",
        "  return data\n",
        "\n",
        "\n",
        "test = processing(test)\n",
        "train = processing(train)"
      ],
      "execution_count": 21,
      "outputs": []
    },
    {
      "cell_type": "code",
      "metadata": {
        "colab": {
          "base_uri": "https://localhost:8080/",
          "height": 204
        },
        "id": "Ca4hrOC6GidQ",
        "outputId": "5eb00856-a3b3-46e9-bc5f-13698a749574"
      },
      "source": [
        "test[:5]"
      ],
      "execution_count": 22,
      "outputs": [
        {
          "output_type": "execute_result",
          "data": {
            "text/html": [
              "<div>\n",
              "<style scoped>\n",
              "    .dataframe tbody tr th:only-of-type {\n",
              "        vertical-align: middle;\n",
              "    }\n",
              "\n",
              "    .dataframe tbody tr th {\n",
              "        vertical-align: top;\n",
              "    }\n",
              "\n",
              "    .dataframe thead th {\n",
              "        text-align: right;\n",
              "    }\n",
              "</style>\n",
              "<table border=\"1\" class=\"dataframe\">\n",
              "  <thead>\n",
              "    <tr style=\"text-align: right;\">\n",
              "      <th></th>\n",
              "      <th>Unnamed: 0</th>\n",
              "      <th>Unnamed: 0.1</th>\n",
              "      <th>title</th>\n",
              "      <th>time</th>\n",
              "      <th>label</th>\n",
              "      <th>ChangeK</th>\n",
              "      <th>pos</th>\n",
              "    </tr>\n",
              "  </thead>\n",
              "  <tbody>\n",
              "    <tr>\n",
              "      <th>0</th>\n",
              "      <td>0</td>\n",
              "      <td>4</td>\n",
              "      <td>종목명 to benefit from strong yen pay high dividends</td>\n",
              "      <td>2016-06-29 15:26:05</td>\n",
              "      <td>1</td>\n",
              "      <td>0.010402</td>\n",
              "      <td>[종목, to, benefit, from, strong, yen, pay, high...</td>\n",
              "    </tr>\n",
              "    <tr>\n",
              "      <th>1</th>\n",
              "      <td>1</td>\n",
              "      <td>5</td>\n",
              "      <td>종목명 외국인 VIP 증가에 실적 양호</td>\n",
              "      <td>2016-07-19 08:12:04</td>\n",
              "      <td>1</td>\n",
              "      <td>-0.002088</td>\n",
              "      <td>[종목, 외국인, VIP, 증가, 실적, 양호]</td>\n",
              "    </tr>\n",
              "    <tr>\n",
              "      <th>2</th>\n",
              "      <td>2</td>\n",
              "      <td>6</td>\n",
              "      <td>종목명 2분기 영업이익 314억원전년 동기比 448 상승</td>\n",
              "      <td>2016-08-05 17:29:04</td>\n",
              "      <td>1</td>\n",
              "      <td>0.006531</td>\n",
              "      <td>[종목, 2분, 영업, 이익, 314억원, 동기, 448, 상승]</td>\n",
              "    </tr>\n",
              "    <tr>\n",
              "      <th>3</th>\n",
              "      <td>3</td>\n",
              "      <td>7</td>\n",
              "      <td>마카오 카지노경기 26개월만에 회복파라다이스종목명 들썩</td>\n",
              "      <td>2016-09-02 16:04:04</td>\n",
              "      <td>0</td>\n",
              "      <td>0.010680</td>\n",
              "      <td>[마카오, 카지노, 경기, 26, 개월, 회복, 파라다이스, 종목]</td>\n",
              "    </tr>\n",
              "    <tr>\n",
              "      <th>4</th>\n",
              "      <td>4</td>\n",
              "      <td>8</td>\n",
              "      <td>종목명 중국인 VIP 정체내년 성장 동력 부재</td>\n",
              "      <td>2016-11-07 08:45:07</td>\n",
              "      <td>0</td>\n",
              "      <td>0.007851</td>\n",
              "      <td>[종목, 중국인, VIP, 정체, 내년, 성장, 동력, 부재]</td>\n",
              "    </tr>\n",
              "  </tbody>\n",
              "</table>\n",
              "</div>"
            ],
            "text/plain": [
              "   Unnamed: 0  ...                                                pos\n",
              "0           0  ...  [종목, to, benefit, from, strong, yen, pay, high...\n",
              "1           1  ...                         [종목, 외국인, VIP, 증가, 실적, 양호]\n",
              "2           2  ...               [종목, 2분, 영업, 이익, 314억원, 동기, 448, 상승]\n",
              "3           3  ...              [마카오, 카지노, 경기, 26, 개월, 회복, 파라다이스, 종목]\n",
              "4           4  ...                 [종목, 중국인, VIP, 정체, 내년, 성장, 동력, 부재]\n",
              "\n",
              "[5 rows x 7 columns]"
            ]
          },
          "metadata": {
            "tags": []
          },
          "execution_count": 22
        }
      ]
    },
    {
      "cell_type": "markdown",
      "metadata": {
        "id": "LEgJfd2iB8kL"
      },
      "source": [
        "## TF - IDF를 위한 Title 단어 형태소 분석"
      ]
    },
    {
      "cell_type": "code",
      "metadata": {
        "id": "eCFl1eoEB63t"
      },
      "source": [
        "from sklearn.linear_model import SGDClassifier, LogisticRegression\n",
        "from sklearn.feature_extraction.text import TfidfVectorizer"
      ],
      "execution_count": 8,
      "outputs": []
    },
    {
      "cell_type": "markdown",
      "metadata": {
        "id": "aLOwZY04EFSM"
      },
      "source": [
        ""
      ]
    },
    {
      "cell_type": "code",
      "metadata": {
        "id": "yeZjY5-oBaMb"
      },
      "source": [
        "vectorizer=TfidfVectorizer(min_df=0.0, analyzer=\"char\", sublinear_tf=True, ngram_range=(1,3), max_features=5000)\n",
        "\n",
        "\n",
        "X = vectorize.fit_transform(data['title'])"
      ],
      "execution_count": 44,
      "outputs": []
    },
    {
      "cell_type": "code",
      "metadata": {
        "id": "hd1okn7OHh1U"
      },
      "source": [
        "from sklearn.model_selection import train_test_split\n",
        "\n",
        "RANDOM_SEED=42\n",
        "TEST_SPLIT=0.2\n",
        "\n",
        "y=np.array(data['label'])\n",
        "\n",
        "X_train, X_eval, y_train, y_eval=train_test_split(X, y, test_size=TEST_SPLIT, random_state=RANDOM_SEED)"
      ],
      "execution_count": 46,
      "outputs": []
    },
    {
      "cell_type": "code",
      "metadata": {
        "colab": {
          "base_uri": "https://localhost:8080/"
        },
        "id": "-f3Ga3mwHneL",
        "outputId": "36d89c6a-13f4-475e-ed01-83c7732d2878"
      },
      "source": [
        "logistic_classifier = LogisticRegression(class_weight='balanced')\n",
        "logistic_classifier.fit(X_train, y_train)"
      ],
      "execution_count": 47,
      "outputs": [
        {
          "output_type": "execute_result",
          "data": {
            "text/plain": [
              "LogisticRegression(C=1.0, class_weight='balanced', dual=False,\n",
              "                   fit_intercept=True, intercept_scaling=1, l1_ratio=None,\n",
              "                   max_iter=100, multi_class='auto', n_jobs=None, penalty='l2',\n",
              "                   random_state=None, solver='lbfgs', tol=0.0001, verbose=0,\n",
              "                   warm_start=False)"
            ]
          },
          "metadata": {
            "tags": []
          },
          "execution_count": 47
        }
      ]
    },
    {
      "cell_type": "code",
      "metadata": {
        "colab": {
          "base_uri": "https://localhost:8080/"
        },
        "id": "AqQKDQ9lH0bC",
        "outputId": "6cf0d8b8-d71a-47e4-8b61-fd2ba5174796"
      },
      "source": [
        "accuracy = logistic_classifier.score(X_eval, y_eval)\n",
        "\n",
        "print('Accuracy : {}'.format(accuracy))"
      ],
      "execution_count": 48,
      "outputs": [
        {
          "output_type": "stream",
          "text": [
            "Accuracy : 0.5768535262206148\n"
          ],
          "name": "stdout"
        }
      ]
    }
  ]
}