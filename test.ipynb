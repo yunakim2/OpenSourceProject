{
 "cells": [
  {
   "cell_type": "code",
   "execution_count": 2,
   "id": "4f92c2b9",
   "metadata": {},
   "outputs": [
    {
     "name": "stdout",
     "output_type": "stream",
     "text": [
      "\n",
      "==============NVSMI LOG==============\n",
      "\n",
      "Timestamp                                 : Wed Apr 28 16:00:10 2021\n",
      "Driver Version                            : 450.119.03\n",
      "CUDA Version                              : 11.0\n",
      "\n",
      "Attached GPUs                             : 1\n",
      "GPU 00000000:00:04.0\n",
      "    FB Memory Usage\n",
      "        Total                             : 15109 MiB\n",
      "        Used                              : 13600 MiB\n",
      "        Free                              : 1509 MiB\n",
      "    BAR1 Memory Usage\n",
      "        Total                             : 256 MiB\n",
      "        Used                              : 7 MiB\n",
      "        Free                              : 249 MiB\n",
      "\n"
     ]
    }
   ],
   "source": [
    "!nvidia-smi --display=MEMORY -q #--loop-ms=100"
   ]
  }
 ],
 "metadata": {
  "environment": {
   "name": "pytorch-gpu.1-8.m65",
   "type": "gcloud",
   "uri": "gcr.io/deeplearning-platform-release/pytorch-gpu.1-8:m65"
  },
  "kernelspec": {
   "display_name": "Python 3",
   "language": "python",
   "name": "python3"
  },
  "language_info": {
   "codemirror_mode": {
    "name": "ipython",
    "version": 3
   },
   "file_extension": ".py",
   "mimetype": "text/x-python",
   "name": "python",
   "nbconvert_exporter": "python",
   "pygments_lexer": "ipython3",
   "version": "3.7.10"
  }
 },
 "nbformat": 4,
 "nbformat_minor": 5
}
