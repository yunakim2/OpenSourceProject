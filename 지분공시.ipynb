import requests
import json
import pandas as pd

crtfc_key= '6ce8b578ba21546299433725352745d3b3923291'
dart_code_df = pd.read_csv('corpCode.csv', dtype=str)
target = input('Insert the company name: ')
corp_code = dart_code_df.query("corp_name=='{}'".format(target))['corp_code'].to_string().strip(' ')[-8:]

def convertFnltt(url, items, item_names, params):
    res = requests.get(url, params)
    json_dict = json.loads(res.text)
    data = []
    if json_dict['status'] == "000":
        for line in json_dict['list']:
            data.append([])
            for itm in items:
                if itm in line.keys(): data[-1].append(line[itm])
                else: data[-1].append('')
    df = pd.DataFrame(data, columns=item_names)
    return df    

def get_fnlttSinglAcnt(crtfc_key, corp_code):
    items = ["rcept_dt","repror","stkrt_irds"]
    item_names = ["접수일자","보고자","보유비율 증감"]
    params = {'crtfc_key': crtfc_key, 'corp_code': corp_code}
    url="https://opendart.fss.or.kr/api/majorstock.json"
    return convertFnltt(url, items, item_names, params)
    

df_temp=get_fnlttSinglAcnt(crtfc_key=crtfc_key,
                           corp_code=corp_code)



#df.to_csv('지분공시.csv')
    
#for year in range(20170101, 20180101):#연도 지정
#df= pd.concat([df, df_temp])
df_temp.to_csv(target+" 지분공시"+'.csv', encoding='utf-8-sig', index=False)
    
