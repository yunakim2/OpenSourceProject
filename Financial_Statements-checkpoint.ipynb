#!/usr/bin/env python
# coding: utf-8

# In[32]:


from urllib.request import urlopen
from io import BytesIO
from zipfile import ZipFile
import pandas as pd
from bs4 import BeautifulSoup
import xml.etree.ElementTree as Etree
import ssl
context = ssl._create_unverified_context()

api_key = 'Your key'
url_code = 'https://opendart.fss.or.kr/api/corpCode.xml?crtfc_key='+api_key

resp = urlopen(url_code, context=context)
result = resp.read()#window일 경우
#result = resp.read().decode("utf-8") 위 코드가 안되면 사용
xmlsoup = BeautifulSoup(result, 'html.parser')

with urlopen(url_code, context=context) as zip_response:
    with ZipFile(BytesIO(zip_response.read())) as zfile:
        zfile.extractall('corpCode')

    tree = Etree.parse('corpCode/CORPCODE.xml')
root = tree.getroot()

corp_df = pd.DataFrame(columns=['corp_code', 'corp_name', 'stock_code', 'modify_date'])

for company in root.iter('list'):

    stock_code = company.findtext('stock_code')
    stock_code = stock_code.strip()

    if stock_code:
        company_dict = {
            'corp_code': company.findtext('corp_code'),
            'corp_name': company.findtext('corp_name'),
            'stock_code': company.findtext('stock_code'),
            'modify_date': company.findtext('modify_date')
        }

        corp_df = corp_df.append(company_dict, ignore_index=True)

corp_df.to_csv('corpCode.csv', encoding='utf-8-sig', index=False)




# In[37]:


import requests
import json
import pandas as pd


api_key = 'Your key'
dart_code_df = pd.read_csv('corpCode.csv', dtype=str)

def get_dart_code(item_name, dart_df):
    code = dart_df.query("corp_name=='{}'".format(item_name))['corp_code'].to_string().strip(' ')[-8:]
    return code

def convertFnltt(url, items, item_names, params):
    res = requests.get(url, params)
    json_dict = json.loads(res.text)
    data = []
    if json_dict['status'] == "000":
        for line in json_dict['list']:
            data.append([])
            for itm in items:
                if itm in line.keys(): data[-1].append(line[itm])
                else: data[-1].append('')
    df = pd.DataFrame(data, columns=item_names)
    return df


def get_fnlttSinglAcnt(crtfc_key, corp_code, bsns_year, reprt_code):
    items = ["rcept_no", "bsns_year", "stock_code", "reprt_code", "account_nm", "fs_div", "fs_nm","sj_div",
             "sj_nm", "thstrm_nm", "thstrm_dt", "thstrm_amount","thstrm_add_amount", "frmtrm_nm",
             "frmtrm_dt", "frmtrm_amount","frmtrm_add_amount", "bfefrmtrm_nm", "bfefrmtrm_dt", "bfefrmtrm_amount","ord"]
    item_names = ["접수번호", "사업연도", "종목코드", "보고서코드", "계정명", "개별연결구분","개별연결명", "재무제표구분",
                 "재무제표명", "당기명", "당기일자","당기금액", "당기누적금액", "전기명", "전기일자", "전기금액",
                 "전기누적금액", "전전기명", "전전기일자", "전전기금액", "계정과목정렬순서"]
    params = {'crtfc_key': crtfc_key, 'corp_code': corp_code, 'bsns_year': bsns_year, 'reprt_code': reprt_code}
    url = "https://opendart.fss.or.kr/api/fnlttSinglAcnt.json"
    return convertFnltt(url, items, item_names, params)


target = input('Insert the company name: ')

df_orgn = pd.DataFrame()
codeList = [11013, 11012, 11014, 11011]#[1분기,2분기,3분기,4분기]

for year in range(2017, 2021):#연도 지정
    for code in codeList:
        df_temp = get_fnlttSinglAcnt(crtfc_key=api_key,
                                     corp_code=get_dart_code(target, dart_code_df),
                                     bsns_year=year,
                                     reprt_code=code)
        df_orgn = pd.concat([df_orgn, df_temp])
    df_orgn.to_csv(target+'.csv', encoding='utf-8-sig', index=False)


# In[ ]:




