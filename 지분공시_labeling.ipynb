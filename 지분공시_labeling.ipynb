import pandas as pd
import numpy as np
from pykrx import stock
import time

target = input('Insert the company name: ')
data=pd.read_csv(target+' 지분공시.csv')
list=[]

data['label']=data['보유비율 증감'].map(lambda x:1 if x>0 else 0)
data['date'] = data['접수일자'].astype(str).str.replace(pat=r'[^\w]', repl=r'', regex=True)
data=data[['date','보고자','보유비율 증감','label']]
for v in data['date']:
    df=stock.get_market_ohlcv_by_date(fromdate=v,todate=v,ticker=cord_code)
    list.append(df['종가']-df['시가'])
    #time.sleep(1)
#변동량 종가-시가로 계산
data['변동량']=list
data['변동량']=data['변동량'].astype(str).str[13:18]
data['변동량']=data['변동량'].map(lambda x:1 if int(x)>=0 else 0) 
#최종은 label과 변동량이 같은 경우 1
data['최종']=data['label']==data['변동량']
data['최종']=data['최종'].map(lambda x:1 if x else 0)
data.to_csv(target+' 지분공시labeling.csv', encoding='utf-8-sig', index=False)
